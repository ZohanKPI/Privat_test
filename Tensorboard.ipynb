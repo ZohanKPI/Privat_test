version https://git-lfs.github.com/spec/v1
oid sha256:38a5a11f30afca172c7b1383e855e68b3f86c46680f9c603c4180e457c3aa979
size 2184
